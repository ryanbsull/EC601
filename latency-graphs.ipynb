{
 "cells": [
  {
   "cell_type": "code",
   "execution_count": 11,
   "id": "2b1d5428",
   "metadata": {},
   "outputs": [],
   "source": [
    "import glob\n",
    "import os\n",
    "import seaborn as sns\n",
    "import pandas as pd\n",
    "import matplotlib.pyplot as plt\n",
    "import numpy as np\n",
    "from scipy import stats\n",
    "import matplotlib.ticker as mtick\n",
    "from matplotlib.ticker import MultipleLocator\n",
    "group_name = {\"virt_sym\":\"Chronokernel\"}"
   ]
  },
  {
   "cell_type": "code",
   "execution_count": 12,
   "id": "4ef8298e",
   "metadata": {},
   "outputs": [],
   "source": [
    "def clean_data(file_name):\n",
    "    fin = open(file_name, \"rt\")\n",
    "    fout = open(\"out.txt\", \"wt\")\n",
    "\n",
    "    for line in fin:\n",
    "        if line[0] != '#':\n",
    "            fout.write(' '.join(line.split()) + '\\n')\n",
    "    fin.close()\n",
    "    fout.close()\n",
    "    \n",
    "    os.remove(file_name)\n",
    "    os.rename(\"out.txt\", file_name)"
   ]
  },
  {
   "cell_type": "code",
   "execution_count": 17,
   "id": "0cabbc9b",
   "metadata": {},
   "outputs": [],
   "source": [
    "def load_data(test_name, run_number=-1,discard_outliers=True):\n",
    "    if run_number >= 0:\n",
    "        file_name = 'latency_data/{}/baseline_FULL_RUN_{}.txt'.format(test_name, run_number)\n",
    "    else:\n",
    "        file_name = 'latency_data/{}/baseline_FULL_RUN_*.txt'.format(test_name)\n",
    "    files = glob.glob(file_name)\n",
    "    data = []\n",
    "    for file in files:\n",
    "        clean_data(file)\n",
    "        graph = pd.read_csv(file, sep=' ')\n",
    "        graph['System'] = group_name[test_name]\n",
    "        data.append(graph)\n",
    "    return data"
   ]
  },
  {
   "cell_type": "code",
   "execution_count": 23,
   "id": "e3fa212d",
   "metadata": {},
   "outputs": [
    {
     "data": {
      "image/png": "[encoded data removed]",
      "text/plain": [
       "<Figure size 432x288 with 1 Axes>"
      ]
     },
     "metadata": {
      "needs_background": "light"
     },
     "output_type": "display_data"
    }
   ],
   "source": [
    "for i in range(0,4):\n",
    "    virt_sym[i] = load_data(\"virt_sym\", run_number=i)\n",
    "\n",
    "virt_sym_all = load_data(\"virt_sym\")\n",
    "\n",
    "virt_sym_data = pd.concat(virt_sym_all, ignore_index=True)\n",
    "\n",
    "#memcached_data = pd.concat([], ignore_index=True)\n",
    "\n",
    "fig = sns.lineplot(y=\"Value\", x=\"Percentile\", data=virt_sym_data)\n",
    "\n",
    "fig.set(title=\"VIRTUALIZED MEMCACHED LATENCY\")\n",
    "\n",
    "plt.xlabel('Percentile')\n",
    "plt.ylabel('Latency (us)')\n",
    "plt.ylim(0,4)\n",
    "plt.xlim(0,0.999)\n",
    "#plt.xscale(\"log\")\n",
    "#plt.xticks(np.logspace(0, 0.999, num=10))\n",
    "plt.tight_layout()\n",
    "plt.savefig('plt.png')\n"
   ]
  },
  {
   "cell_type": "code",
   "execution_count": null,
   "id": "a3ac63b3",
   "metadata": {},
   "outputs": [],
   "source": []
  }
 ],
 "metadata": {
  "kernelspec": {
   "display_name": "Python 3",
   "language": "python",
   "name": "python3"
  },
  "language_info": {
   "codemirror_mode": {
    "name": "ipython",
    "version": 3
   },
   "file_extension": ".py",
   "mimetype": "text/x-python",
   "name": "python",
   "nbconvert_exporter": "python",
   "pygments_lexer": "ipython3",
   "version": "3.8.8"
  }
 },
 "nbformat": 4,
 "nbformat_minor": 5
}
